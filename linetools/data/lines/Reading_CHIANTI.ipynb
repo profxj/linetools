{
 "cells": [
  {
   "cell_type": "markdown",
   "metadata": {},
   "source": [
    "# Parsing the CHIANTI database with ChiantiPy"
   ]
  },
  {
   "cell_type": "code",
   "execution_count": 2,
   "metadata": {
    "collapsed": false
   },
   "outputs": [
    {
     "name": "stdout",
     "output_type": "stream",
     "text": [
      " found PyQt4 widgets\n",
      " using PyQt4 widgets\n"
     ]
    }
   ],
   "source": [
    "# import\n",
    "import chianti.core as ch"
   ]
  },
  {
   "cell_type": "markdown",
   "metadata": {},
   "source": [
    "## Load an ion"
   ]
  },
  {
   "cell_type": "code",
   "execution_count": 9,
   "metadata": {
    "collapsed": true
   },
   "outputs": [],
   "source": [
    "HI = ch.ion('h_1',temperature=1e4, eDensity=100.)"
   ]
  },
  {
   "cell_type": "code",
   "execution_count": 14,
   "metadata": {
    "collapsed": false
   },
   "outputs": [
    {
     "name": "stdout",
     "output_type": "stream",
     "text": [
      "   \n",
      " ------------------------------------------\n",
      "   \n",
      "  Ion  lvl1  lvl2                     lower - upper                           Wvl(A)    Intensity      A value Obs\n",
      "  h_1     3    20                  2p 2P0.5 - 5d 2D1.5                     4341.6550    5.056e-02     7.85e+06 Y\n",
      "  h_1     3    17                  2p 2P0.5 - 5s 2S0.5                     4341.6590    2.692e-02     4.30e+05 Y\n",
      "  h_1     2    19                  2s 2S0.5 - 5p 2P1.5                     4341.6610    2.480e-02     4.95e+06 Y\n",
      "  h_1     2    18                  2s 2S0.5 - 5p 2P0.5                     4341.6650    1.238e-02     4.95e+06 Y\n",
      "  h_1     4    21                  2p 2P1.5 - 5d 2D2.5                     4341.7230    9.101e-02     9.42e+06 Y\n",
      "  h_1     4    20                  2p 2P1.5 - 5d 2D1.5                     4341.7240    1.011e-02     1.57e+06 Y\n",
      "  h_1     4    17                  2p 2P1.5 - 5s 2S0.5                     4341.7290    5.378e-02     8.59e+05 Y\n",
      "  h_1     3    13                  2p 2P0.5 - 4d 2D1.5                     4862.6450    1.121e-01     1.72e+07 Y\n",
      "  h_1     2    12                  2s 2S0.5 - 4p 2P1.5                     4862.6520    5.336e-02     9.67e+06 Y\n",
      "  h_1     3    10                  2p 2P0.5 - 4s 2S0.5                     4862.6560    6.627e-02     8.59e+05 Y\n",
      "  h_1     2    11                  2s 2S0.5 - 4p 2P0.5                     4862.6640    2.664e-02     9.67e+06 Y\n",
      "  h_1     4    14                  2p 2P1.5 - 4d 2D2.5                     4862.7290    2.018e-01     2.06e+07 Y\n",
      "  h_1     4    13                  2p 2P1.5 - 4d 2D1.5                     4862.7320    2.243e-02     3.44e+06 Y\n",
      "  h_1     4    10                  2p 2P1.5 - 4s 2S0.5                     4862.7430    1.327e-01     1.72e+06 Y\n",
      "  h_1     3     8                  2p 2P0.5 - 3d 2D1.5                     6564.5360    5.258e-01     5.39e+07 Y\n",
      "  h_1     2     7                  2s 2S0.5 - 3p 2P1.5                     6564.5490    2.222e-01     2.24e+07 Y\n",
      "  h_1     3     5                  2p 2P0.5 - 3s 2S0.5                     6564.5760    4.988e-01     2.10e+06 Y\n",
      "  h_1     2     6                  2s 2S0.5 - 3p 2P0.5                     6564.5960    1.109e-01     2.24e+07 Y\n",
      "  h_1     4     9                  2p 2P1.5 - 3d 2D2.5                     6564.6770    9.476e-01     6.46e+07 Y\n",
      "  h_1     4     8                  2p 2P1.5 - 3d 2D1.5                     6564.6940    1.054e-01     1.08e+07 Y\n",
      "  h_1     4     5                  2p 2P1.5 - 3s 2S0.5                     6564.7340    1.000e+00     4.21e+06 Y\n",
      "   \n",
      " ------------------------------------------\n",
      "   \n"
     ]
    }
   ],
   "source": [
    "HI.intensityList(wvlRange=[3000., 7000], relative=1, index=10, top=50)"
   ]
  },
  {
   "cell_type": "code",
   "execution_count": 15,
   "metadata": {
    "collapsed": true
   },
   "outputs": [],
   "source": [
    "OIII = ch.ion('o_3',temperature=1e4, eDensity=100.)"
   ]
  },
  {
   "cell_type": "code",
   "execution_count": 16,
   "metadata": {
    "collapsed": false
   },
   "outputs": [
    {
     "name": "stdout",
     "output_type": "stream",
     "text": [
      "   \n",
      " ------------------------------------------\n",
      "   \n",
      "  Ion  lvl1  lvl2                     lower - upper                           Wvl(A)    Intensity      A value Obs\n",
      "  o_3    25    39            2s2.2p3p 3D2.0 - 2s2.2p3d 3D2.0               3005.2200    8.568e-23     6.24e+07 Y\n",
      "  o_3    25    38            2s2.2p3p 3D2.0 - 2s2.2p3d 3D1.0               3009.6570    4.137e-23     1.93e+07 Y\n",
      "  o_3    26    40            2s2.2p3p 3D3.0 - 2s2.2p3d 3D3.0               3018.4950    5.142e-23     7.78e+07 Y\n",
      "  o_3    17    30            2s2.2p3s 3P1.0 - 2s2.2p3p 3P2.0               3024.3060    1.355e-19     7.77e+07 Y\n",
      "  o_3    26    39            2s2.2p3p 3D3.0 - 2s2.2p3d 3D2.0               3025.2380    1.528e-23     1.12e+07 Y\n",
      "  o_3    16    29            2s2.2p3s 3P0.0 - 2s2.2p3p 3P1.0               3025.4210    4.590e-19     1.03e+08 Y\n",
      "  o_3    17    29            2s2.2p3s 3P1.0 - 2s2.2p3p 3P1.0               3036.2980    3.437e-19     7.74e+07 Y\n",
      "  o_3    17    28            2s2.2p3s 3P1.0 - 2s2.2p3p 3P0.0               3042.9530    3.077e-18     3.14e+08 Y\n",
      "  o_3    18    30            2s2.2p3s 3P2.0 - 2s2.2p3p 3P2.0               3047.9850    4.102e-19     2.37e+08 Y\n",
      "  o_3    18    29            2s2.2p3s 3P2.0 - 2s2.2p3p 3P1.0               3060.1660    5.904e-19     1.34e+08 Y\n",
      "  o_3    27    43            2s2.2p3p 3S1.0 - 2s2.2p3d 3P0.0               3116.5790    3.415e-23     1.70e+08 Y\n",
      "  o_3    27    42            2s2.2p3p 3S1.0 - 2s2.2p3d 3P1.0               3122.5390    1.450e-22     1.71e+08 Y\n",
      "  o_3    27    41            2s2.2p3p 3S1.0 - 2s2.2p3d 3P2.0               3133.7000    1.290e-22     1.73e+08 Y\n",
      "  o_3    24    37            2s2.2p3p 3D1.0 - 2s2.2p3d 1D2.0               3239.4800    2.255e-23     9.10e+06 Y\n",
      "  o_3    25    35            2s2.2p3p 3D2.0 - 2s2.2p3d 3F3.0               3261.7980    1.374e-20     2.19e+08 Y\n",
      "  o_3    26    36            2s2.2p3p 3D3.0 - 2s2.2p3d 3F4.0               3266.2690    1.612e-20     2.43e+08 Y\n",
      "  o_3    24    34            2s2.2p3p 3D1.0 - 2s2.2p3d 3F2.0               3268.1470    1.152e-20     1.98e+08 Y\n",
      "  o_3    25    34            2s2.2p3p 3D2.0 - 2s2.2p3d 3F2.0               3282.7790    2.033e-21     3.51e+07 Y\n",
      "  o_3    26    35            2s2.2p3p 3D3.0 - 2s2.2p3d 3F3.0               3285.3940    1.519e-21     2.44e+07 Y\n",
      "  o_3    16    27            2s2.2p3s 3P0.0 - 2s2.2p3p 3S1.0               3300.3370    8.852e-21     1.52e+07 Y\n",
      "  o_3    26    34            2s2.2p3p 3D3.0 - 2s2.2p3d 3F2.0               3306.6800    5.083e-23     8.84e+05 Y\n",
      "  o_3    17    27            2s2.2p3s 3P1.0 - 2s2.2p3p 3S1.0               3313.2850    2.541e-20     4.38e+07 Y\n",
      "  o_3    18    27            2s2.2p3s 3P2.0 - 2s2.2p3p 3S1.0               3341.7260    3.848e-20     6.69e+07 Y\n",
      "  o_3    30    42            2s2.2p3p 3P2.0 - 2s2.2p3d 3P1.0               3431.5540    1.728e-23     2.24e+07 Y\n",
      "  o_3    30    41            2s2.2p3p 3P2.0 - 2s2.2p3d 3P2.0               3445.0390    2.883e-23     4.25e+07 Y\n",
      "  o_3    19    29            2s2.2p3s 1P1.0 - 2s2.2p3p 3P1.0               3672.3360    2.324e-22     6.33e+04 Y\n",
      "  o_3    19    28            2s2.2p3s 1P1.0 - 2s2.2p3p 3P0.0               3682.0760    4.074e-22     5.03e+04 Y\n",
      "  o_3    28    38            2s2.2p3p 3P0.0 - 2s2.2p3d 3D1.0               3705.1700    8.827e-23     5.07e+07 Y\n",
      "  o_3    29    39            2s2.2p3p 3P1.0 - 2s2.2p3d 3D2.0               3708.3260    7.545e-23     6.78e+07 Y\n",
      "  o_3    29    38            2s2.2p3p 3P1.0 - 2s2.2p3d 3D1.0               3715.0850    5.886e-23     3.39e+07 Y\n",
      "  o_3    30    40            2s2.2p3p 3P2.0 - 2s2.2p3d 3D3.0               3716.1470    4.585e-23     8.54e+07 Y\n",
      "  o_3    30    39            2s2.2p3p 3P2.0 - 2s2.2p3d 3D2.0               3726.3720    1.982e-23     1.79e+07 Y\n",
      "  o_3    17    25            2s2.2p3s 3P1.0 - 2s2.2p3p 3D2.0               3755.7630    3.621e-19     7.52e+07 Y\n",
      "  o_3    16    24            2s2.2p3s 3P0.0 - 2s2.2p3p 3D1.0               3758.2990    2.463e-19     5.55e+07 Y\n",
      "  o_3    18    26            2s2.2p3s 3P2.0 - 2s2.2p3p 3D3.0               3760.9450    3.581e-19     9.89e+07 Y\n",
      "  o_3    17    24            2s2.2p3s 3P1.0 - 2s2.2p3p 3D1.0               3775.0990    1.758e-19     3.98e+07 Y\n",
      "  o_3    18    25            2s2.2p3s 3P2.0 - 2s2.2p3p 3D2.0               3792.3500    1.116e-19     2.34e+07 Y\n",
      "  o_3    18    24            2s2.2p3s 3P2.0 - 2s2.2p3p 3D1.0               3812.0650    1.111e-20     2.54e+06 Y\n",
      "  o_3    31    44            2s2.2p3p 1D2.0 - 2s2.2p3d 1F3.0               3962.6960    3.080e-23     1.10e+08 Y\n",
      "  o_3    19    32            2s2.2p3s 1P1.0 - 2p4 1D2.0                    3966.2620    4.264e-22     2.98e+07 Y\n",
      "  o_3    19    27            2s2.2p3s 1P1.0 - 2s2.2p3p 3S1.0               4085.4160    4.098e-23     8.71e+04 Y\n",
      "  o_3    16    23            2s2.2p3s 3P0.0 - 2s2.2p3p 1P1.0               4219.4930    6.395e-22     8.57e+04 Y\n",
      "  o_3    17    23            2s2.2p3s 3P1.0 - 2s2.2p3p 1P1.0               4240.6800    3.378e-21     4.55e+05 Y\n",
      "  o_3     4     5             2s2.2p2 1D2.0 - 2s2.2p2 1S0.0                4364.4350    6.373e-03     1.69e+00 Y\n",
      "  o_3    19    25            2s2.2p3s 1P1.0 - 2s2.2p3p 3D2.0               4779.7650    4.351e-23     1.15e+04 Y\n",
      "  o_3    19    24            2s2.2p3s 1P1.0 - 2s2.2p3p 3D1.0               4811.1260    8.909e-22     2.57e+05 Y\n",
      "  o_3     1     4             2s2.2p2 3P0.0 - 2s2.2p2 1D2.0                4932.6030    1.152e-04     2.32e-06 Y\n",
      "  o_3     2     4             2s2.2p2 3P1.0 - 2s2.2p2 1D2.0                4960.2950    3.351e-01     6.79e-03 Y\n",
      "  o_3     3     4             2s2.2p2 3P2.0 - 2s2.2p2 1D2.0                5008.2400    1.000e+00     2.05e-02 Y\n",
      "  o_3    19    23            2s2.2p3s 1P1.0 - 2s2.2p3p 1P1.0               5593.8090    1.863e-19     3.31e+07 Y\n",
      "   \n",
      " ------------------------------------------\n",
      "   \n"
     ]
    }
   ],
   "source": [
    "OIII.intensityList(wvlRange=[3000., 7000], relative=1, index=10, top=50)"
   ]
  },
  {
   "cell_type": "code",
   "execution_count": null,
   "metadata": {
    "collapsed": true
   },
   "outputs": [],
   "source": []
  }
 ],
 "metadata": {
  "kernelspec": {
   "display_name": "Python 2",
   "language": "python",
   "name": "python2"
  },
  "language_info": {
   "codemirror_mode": {
    "name": "ipython",
    "version": 2
   },
   "file_extension": ".py",
   "mimetype": "text/x-python",
   "name": "python",
   "nbconvert_exporter": "python",
   "pygments_lexer": "ipython2",
   "version": "2.7.10"
  }
 },
 "nbformat": 4,
 "nbformat_minor": 0
}
